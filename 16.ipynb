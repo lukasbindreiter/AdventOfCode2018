{
 "cells": [
  {
   "cell_type": "code",
   "execution_count": 1,
   "metadata": {},
   "outputs": [],
   "source": [
    "import re\n",
    "import numpy as np"
   ]
  },
  {
   "cell_type": "code",
   "execution_count": 2,
   "metadata": {},
   "outputs": [],
   "source": [
    "from collections import Counter"
   ]
  },
  {
   "cell_type": "code",
   "execution_count": 3,
   "metadata": {},
   "outputs": [],
   "source": [
    "data = open(\"inputs/16.input\").read().strip()\n",
    "part1, part2 = data.split(\"\\n\\n\\n\")\n",
    "examples = part1.strip().split(\"\\n\\n\")"
   ]
  },
  {
   "cell_type": "code",
   "execution_count": 4,
   "metadata": {},
   "outputs": [],
   "source": [
    "def get_numbers(s):\n",
    "    return list(map(int, re.findall(\"\\d+\", s)))"
   ]
  },
  {
   "cell_type": "code",
   "execution_count": 5,
   "metadata": {},
   "outputs": [],
   "source": [
    "register_functions = {}\n",
    "\n",
    "def create_register_function(name, op):\n",
    "    def register_function(a, b, c, registers):\n",
    "        registers_copy = list(registers)\n",
    "        assert len(registers) == 4\n",
    "        result = op(a, b, registers)\n",
    "        registers_copy[c] = result\n",
    "        return registers_copy\n",
    "    register_functions[name] = register_function\n",
    "    return register_function\n",
    "\n",
    "addr = create_register_function(\"addr\", lambda a, b, r: r[a] + r[b])\n",
    "addi = create_register_function(\"addi\", lambda a, b, r: r[a] + b)\n",
    "mulr = create_register_function(\"mulr\", lambda a, b, r: r[a] * r[b])\n",
    "muli = create_register_function(\"muli\", lambda a, b, r: r[a] * b)\n",
    "banr = create_register_function(\"banr\", lambda a, b, r: r[a] & r[b])\n",
    "bani = create_register_function(\"bani\", lambda a, b, r: r[a] & b)\n",
    "borr = create_register_function(\"borr\", lambda a, b, r: r[a] | r[b])\n",
    "bori = create_register_function(\"bori\", lambda a, b, r: r[a] | b)\n",
    "setr = create_register_function(\"setr\", lambda a, b, r: r[a])\n",
    "seti = create_register_function(\"seti\", lambda a, b, r: a)\n",
    "gtir = create_register_function(\"gtir\", lambda a, b, r: 1 if a > r[b] else 0)\n",
    "gtri = create_register_function(\"gtri\", lambda a, b, r: 1 if r[a] > b else 0)\n",
    "gtrr = create_register_function(\"gtrr\", lambda a, b, r: 1 if r[a] > r[b] else 0)\n",
    "eqir = create_register_function(\"eqir\", lambda a, b, r: 1 if a == r[b] else 0)\n",
    "eqri = create_register_function(\"eqri\", lambda a, b, r: 1 if r[a] == b else 0)\n",
    "eqrr = create_register_function(\"eqrr\", lambda a, b, r: 1 if r[a] == r[b] else 0)"
   ]
  },
  {
   "cell_type": "markdown",
   "metadata": {},
   "source": [
    "# Part 1"
   ]
  },
  {
   "cell_type": "code",
   "execution_count": 6,
   "metadata": {},
   "outputs": [
    {
     "data": {
      "text/plain": [
       "663"
      ]
     },
     "execution_count": 6,
     "metadata": {},
     "output_type": "execute_result"
    }
   ],
   "source": [
    "matching_opcodes_per_sample = []\n",
    "for example in examples:\n",
    "    before, op, after = [get_numbers(s) for s in example.split(\"\\n\")]\n",
    "    matching_opcodes = sum([1 if op_fun(*op[1:], before) == after else 0 for name, op_fun in register_functions.items()])\n",
    "    matching_opcodes_per_sample.append(matching_opcodes)\n",
    "\n",
    "matching = np.array(matching_opcodes_per_sample)\n",
    "(matching >= 3).sum()"
   ]
  },
  {
   "cell_type": "markdown",
   "metadata": {},
   "source": [
    "# Part 2"
   ]
  },
  {
   "cell_type": "code",
   "execution_count": 34,
   "metadata": {},
   "outputs": [],
   "source": [
    "identified = {}\n",
    "# until we have identified each opcode\n",
    "while len(identified) < 16:\n",
    "    len_before = len(identified)\n",
    "    for example in examples:\n",
    "        before, op, after = [get_numbers(s) for s in example.split(\"\\n\")]\n",
    "        opcode_matches = []\n",
    "        for name, op_fun in register_functions.items():\n",
    "            if name in identified: # skip op codes we have already identified\n",
    "                continue\n",
    "            if op_fun(*op[1:], before) == after:\n",
    "                opcode_matches.append(name)\n",
    "        if len(opcode_matches) == 1: # uniquely identified this opcode\n",
    "            identified[opcode_matches[0]] = op[0]\n",
    "    if len(identified) == len_before:\n",
    "        print(\"Can not further identify anything!\")\n",
    "        break"
   ]
  },
  {
   "cell_type": "code",
   "execution_count": 35,
   "metadata": {},
   "outputs": [],
   "source": [
    "opcode_func_mapping = {opcode: register_functions[opname] for opname, opcode in identified.items()}"
   ]
  },
  {
   "cell_type": "code",
   "execution_count": 40,
   "metadata": {},
   "outputs": [],
   "source": [
    "ops = [get_numbers(l) for l in part2.strip().split(\"\\n\")]\n",
    "registers = [0, 0, 0, 0]\n",
    "for op in ops:\n",
    "    registers = opcode_func_mapping[op[0]](*op[1:], registers)"
   ]
  },
  {
   "cell_type": "code",
   "execution_count": 42,
   "metadata": {},
   "outputs": [
    {
     "name": "stdout",
     "output_type": "stream",
     "text": [
      "525\n"
     ]
    }
   ],
   "source": [
    "print(registers[0])"
   ]
  },
  {
   "cell_type": "code",
   "execution_count": null,
   "metadata": {},
   "outputs": [],
   "source": []
  }
 ],
 "metadata": {
  "kernelspec": {
   "display_name": "Python 3",
   "language": "python",
   "name": "python3"
  },
  "language_info": {
   "codemirror_mode": {
    "name": "ipython",
    "version": 3
   },
   "file_extension": ".py",
   "mimetype": "text/x-python",
   "name": "python",
   "nbconvert_exporter": "python",
   "pygments_lexer": "ipython3",
   "version": "3.6.6"
  }
 },
 "nbformat": 4,
 "nbformat_minor": 2
}
