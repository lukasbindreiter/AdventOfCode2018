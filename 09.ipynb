{
 "cells": [
  {
   "cell_type": "code",
   "execution_count": 5,
   "metadata": {},
   "outputs": [],
   "source": [
    "class Marble:\n",
    "    def __init__(self, val):\n",
    "        self.val = val\n",
    "        self.next = None\n",
    "        self.prev = None"
   ]
  },
  {
   "cell_type": "code",
   "execution_count": 37,
   "metadata": {},
   "outputs": [],
   "source": [
    "class MarblesGame:\n",
    "    def __init__(self, n_players):\n",
    "        self.curr_marble = Marble(0)\n",
    "        self.curr_marble.next = self.curr_marble\n",
    "        self.curr_marble.prev = self.curr_marble\n",
    "        self.players = [0 for _ in range(n_players)]\n",
    "        self.curr_player = -1\n",
    "    \n",
    "    def add_marble(self, m):\n",
    "        self.curr_player += 1\n",
    "        self.curr_player %= len(self.players)\n",
    "        \n",
    "        if m % 23 == 0:\n",
    "            self.players[self.curr_player] += m\n",
    "            for i in range(7):\n",
    "                self.curr_marble = self.curr_marble.prev\n",
    "            self.players[self.curr_player] += self.curr_marble.val\n",
    "            # delete curr marble\n",
    "            p, n = self.curr_marble.prev, self.curr_marble.next\n",
    "            p.next = n\n",
    "            n.prev = p\n",
    "            self.curr_marble = n\n",
    "        else:\n",
    "            before = self.curr_marble.next\n",
    "            after = before.next\n",
    "            new_m = Marble(m)\n",
    "            before.next = new_m\n",
    "            new_m.prev = before\n",
    "            new_m.next = after\n",
    "            after.prev = new_m\n",
    "            self.curr_marble = new_m\n",
    "\n",
    "    \n",
    "    def __str__(self):\n",
    "        curr_str = \"-\" if self.curr_player == -1 else str(self.curr_player + 1)\n",
    "        m = self.curr_marble\n",
    "        while m.val != 0:\n",
    "            m = m.next\n",
    "        s = \"\"\n",
    "        while m.val != 0 or len(s) == 0:\n",
    "            s += f\"({m.val}) \" if m == self.curr_marble else f\"{m.val} \"\n",
    "            m = m.next\n",
    "        \n",
    "        return f\"[{curr_str}] {s}\"\n",
    "    \n",
    "    def __repr__(self):\n",
    "        return str(self)"
   ]
  },
  {
   "cell_type": "markdown",
   "metadata": {},
   "source": [
    "## Part 1"
   ]
  },
  {
   "cell_type": "code",
   "execution_count": 40,
   "metadata": {},
   "outputs": [
    {
     "data": {
      "text/plain": [
       "374690"
      ]
     },
     "execution_count": 40,
     "metadata": {},
     "output_type": "execute_result"
    }
   ],
   "source": [
    "# 477 players; last marble is worth 70851 * 100 points\n",
    "n_players, last_marble = 477, 70851\n",
    "\n",
    "g = MarblesGame(n_players)\n",
    "for i in range(1, last_marble + 1):\n",
    "    g.add_marble(i)\n",
    "\n",
    "max(g.players)"
   ]
  },
  {
   "cell_type": "markdown",
   "metadata": {},
   "source": [
    "## Part 2"
   ]
  },
  {
   "cell_type": "code",
   "execution_count": 39,
   "metadata": {},
   "outputs": [
    {
     "data": {
      "text/plain": [
       "3009951158"
      ]
     },
     "execution_count": 39,
     "metadata": {},
     "output_type": "execute_result"
    }
   ],
   "source": [
    "# 477 players; last marble is worth 70851 * 100 points\n",
    "n_players, last_marble = 477, 7085100\n",
    "\n",
    "g = MarblesGame(n_players)\n",
    "for i in range(1, last_marble + 1):\n",
    "    g.add_marble(i)\n",
    "\n",
    "max(g.players)"
   ]
  }
 ],
 "metadata": {
  "kernelspec": {
   "display_name": "Python 3",
   "language": "python",
   "name": "python3"
  },
  "language_info": {
   "codemirror_mode": {
    "name": "ipython",
    "version": 3
   },
   "file_extension": ".py",
   "mimetype": "text/x-python",
   "name": "python",
   "nbconvert_exporter": "python",
   "pygments_lexer": "ipython3",
   "version": "3.6.6"
  }
 },
 "nbformat": 4,
 "nbformat_minor": 2
}
