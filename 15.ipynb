{
 "cells": [
  {
   "cell_type": "code",
   "execution_count": 1,
   "metadata": {},
   "outputs": [],
   "source": [
    "import numpy as np\n",
    "import matplotlib.pyplot as plt\n",
    "from scipy.signal import convolve\n",
    "import warnings\n",
    "warnings.simplefilter(\"ignore\")\n",
    "%matplotlib inline\n",
    "%load_ext autoreload\n",
    "%autoreload 2\n",
    "from day15 import Cavern, CombatOver, ElfDied"
   ]
  },
  {
   "cell_type": "code",
   "execution_count": 17,
   "metadata": {},
   "outputs": [],
   "source": [
    "data = open(\"inputs/15.input\").read()"
   ]
  },
  {
   "cell_type": "code",
   "execution_count": 16,
   "metadata": {},
   "outputs": [],
   "source": [
    "data = \"\"\"\n",
    "#########\n",
    "#G..G..G#\n",
    "#.......#\n",
    "#.......#\n",
    "#G..E..G#\n",
    "#.......#\n",
    "#.......#\n",
    "#G..G..G#\n",
    "#########\n",
    "\"\"\"\n",
    "\n",
    "data = \"\"\"\n",
    "#######\n",
    "#.G...#\n",
    "#...EG#\n",
    "#.#.#G#\n",
    "#..G#E#\n",
    "#.....#\n",
    "#######\n",
    "\"\"\"\n",
    "\n",
    "data = \"\"\"\n",
    "#######\n",
    "#G..#E#\n",
    "#E#E.E#\n",
    "#G.##.#\n",
    "#...#E#\n",
    "#...E.#\n",
    "#######\n",
    "\"\"\"\n",
    "\n",
    "data = \"\"\"\n",
    "#######\n",
    "#E..EG#\n",
    "#.#G.E#\n",
    "#E.##E#\n",
    "#G..#.#\n",
    "#..E#.#\n",
    "#######\n",
    "\"\"\"\n",
    "\n",
    "data = \"\"\"\n",
    "#######\n",
    "#.E...#\n",
    "#.#..G#\n",
    "#.###.#\n",
    "#E#G#G#\n",
    "#...#G#\n",
    "#######\n",
    "\"\"\"\n",
    "\n",
    "data = \"\"\"\n",
    "#########\n",
    "#G......#\n",
    "#.E.#...#\n",
    "#..##..G#\n",
    "#...##..#\n",
    "#...#...#\n",
    "#.G...G.#\n",
    "#.....G.#\n",
    "#########\n",
    "\"\"\""
   ]
  },
  {
   "cell_type": "code",
   "execution_count": null,
   "metadata": {},
   "outputs": [],
   "source": []
  },
  {
   "cell_type": "markdown",
   "metadata": {},
   "source": [
    "# Part 1"
   ]
  },
  {
   "cell_type": "code",
   "execution_count": 7,
   "metadata": {},
   "outputs": [
    {
     "name": "stdout",
     "output_type": "stream",
     "text": [
      "Its over after:  20 937 = 18740\n",
      "#########\n",
      "#.G.....#\n",
      "#G.G#...#\n",
      "#.G##...#\n",
      "#...##..#\n",
      "#.G.#...#\n",
      "#.......#\n",
      "#.......#\n",
      "#########\n"
     ]
    }
   ],
   "source": [
    "c = Cavern(data, initial_hp=200, elf_ad=3, goblin_ad=3, can_elfs_die=True)\n",
    "r = 0\n",
    "\n",
    "try:\n",
    "    for i in range(100):\n",
    "        dead_this_round = []\n",
    "        units = c.sorted_units_list()\n",
    "        for i_unit, (unit_type, unit_y, unit_x) in enumerate(zip(*units)):\n",
    "            last_one = i_unit == len(units[0]) - 1\n",
    "            if (unit_y, unit_x) in dead_this_round:\n",
    "                continue\n",
    "                \n",
    "            enemy_type = \"Elf\" if unit_type == \"Goblin\" else \"Goblin\"\n",
    "            attack_target = c.get_attack_target(unit_y, unit_x, enemy_type)\n",
    "            if attack_target is not None:\n",
    "                died = c.attack(attack_target)\n",
    "                if died:\n",
    "                    dead_this_round.append(attack_target)\n",
    "                continue\n",
    "            \n",
    "            walk_step = c.get_walk_step_to_target(unit_y, unit_x, enemy_type)\n",
    "            \n",
    "            if walk_step is not None:\n",
    "                c.move(unit_type, unit_y, unit_x, *walk_step)\n",
    "                unit_y, unit_x = walk_step\n",
    "            \n",
    "            attack_target = c.get_attack_target(unit_y, unit_x, enemy_type)\n",
    "            if attack_target is not None:\n",
    "                died = c.attack(attack_target)\n",
    "                if died:\n",
    "                    dead_this_round.append(attack_target)\n",
    "                continue\n",
    "\n",
    "        r += 1\n",
    "except CombatOver:\n",
    "    if last_one:\n",
    "        r += 1\n",
    "    print(\"Its over after: \", r, c.get_remaining_hp(), \"=\", r*c.get_remaining_hp())\n",
    "\n",
    "print(c)"
   ]
  },
  {
   "cell_type": "code",
   "execution_count": null,
   "metadata": {},
   "outputs": [],
   "source": []
  },
  {
   "cell_type": "markdown",
   "metadata": {},
   "source": [
    "# Part 2"
   ]
  },
  {
   "cell_type": "code",
   "execution_count": 19,
   "metadata": {},
   "outputs": [
    {
     "name": "stdout",
     "output_type": "stream",
     "text": [
      "AD:  4 0 1 2 3 4 5 6 7 8 9 10 11 12 13 14 15 16 17 18 19 20 Elf died!\n",
      "AD:  5 0 1 2 3 4 5 6 7 8 9 10 11 12 13 14 15 16 17 18 19 20 Elf died!\n",
      "AD:  6 0 1 2 3 4 5 6 7 8 9 10 11 12 13 14 15 16 17 18 19 20 Elf died!\n",
      "AD:  7 0 1 2 3 4 5 6 7 8 9 10 11 12 13 14 15 16 17 18 19 20 Elf died!\n",
      "AD:  8 0 1 2 3 4 5 6 7 8 9 10 11 12 13 14 15 16 17 18 19 20 Elf died!\n",
      "AD:  9 0 1 2 3 4 5 6 7 8 9 10 11 12 13 14 15 16 17 18 19 20 21 Elf died!\n",
      "AD:  10 0 1 2 3 4 5 6 7 8 9 10 11 12 13 14 15 16 17 18 19 20 21 22 Elf died!\n",
      "AD:  11 0 1 2 3 4 5 6 7 8 9 10 11 12 13 14 15 16 17 18 19 20 21 22 23 Elf died!\n",
      "AD:  12 0 1 2 3 4 5 6 7 8 9 10 11 12 13 14 15 16 17 18 19 20 21 22 23 24 Elf died!\n",
      "AD:  13 0 1 2 3 4 5 6 7 8 9 10 11 12 13 14 15 16 17 18 19 20 21 22 23 24 Elf died!\n",
      "AD:  14 0 1 2 3 4 5 6 7 8 9 10 11 12 13 14 15 16 17 18 19 20 21 22 23 24 25 Elf died!\n",
      "AD:  15 0 1 2 3 4 5 6 7 8 9 10 11 12 13 14 15 16 17 18 19 20 21 22 23 24 25 26 27 28 29 30 31 32 33 34 35 36 37 38 39 40 41 42 43 Elf died!\n",
      "AD:  16 0 1 2 3 4 5 6 7 8 9 10 11 12 13 14 15 16 17 18 19 20 21 22 23 24 25 26 27 28 29 30 31 32 33 34 35 36 37 38 39 40 41 42 43 Elf died!\n",
      "AD:  17 0 1 2 3 4 5 6 7 8 9 10 11 12 13 14 15 16 17 18 19 20 21 22 23 24 25 26 27 28 29 30 31 32 33 34 35 36 37 38 39 40 41 42 43 44 45 46 47 48 49 50 51 52 53 54 55 56 57 58 59 60 61 62 63 64 65 17 Its over after:  66 1370 = 90420\n",
      "AD:  18 0 1 2 3 4 5 6 7 8 9 10 11 12 13 14 15 16 17 18 19 20 21 22 23 24 25 26 27 28 29 30 31 32 33 34 35 36 37 38 39 40 41 42 43 44 45 46 47 48 49 50 51 52 53 54 55 56 57 58 59 60 61 62 63 64 65 18 Its over after:  66 1370 = 90420\n",
      "AD:  19 0 1 2 3 4 5 6 7 8 9 10 11 12 13 14 15 16 17 18 19 20 21 22 23 24 25 26 27 28 29 30 31 32 33 34 35 36 37 38 39 40 41 42 43 44 45 46 47 48 49 50 51 52 53 54 55 56 57 58 59 60 61 62 63 64 65 19 Its over after:  65 1412 = 91780\n",
      "AD:  20 0 1 2 3 4 5 6 7 8 9 10 11 12 13 14 15 16 17 18 19 20 21 22 23 24 25 26 27 28 29 30 31 32 33 34 35 36 37 38 39 40 41 42 43 44 45 46 47 Elf died!\n",
      "AD:  21 0 1 2 3 4 5 6 7 8 9 10 11 12 13 14 15 16 17 18 19 20 21 22 23 24 25 26 27 28 "
     ]
    },
    {
     "ename": "KeyboardInterrupt",
     "evalue": "",
     "output_type": "error",
     "traceback": [
      "\u001b[1;31m---------------------------------------------------------------------------\u001b[0m",
      "\u001b[1;31mKeyboardInterrupt\u001b[0m                         Traceback (most recent call last)",
      "\u001b[1;32m<ipython-input-19-1d1db5dc2f53>\u001b[0m in \u001b[0;36m<module>\u001b[1;34m()\u001b[0m\n\u001b[0;32m     21\u001b[0m                     \u001b[1;32mcontinue\u001b[0m\u001b[1;33m\u001b[0m\u001b[0m\n\u001b[0;32m     22\u001b[0m \u001b[1;33m\u001b[0m\u001b[0m\n\u001b[1;32m---> 23\u001b[1;33m                 \u001b[0mwalk_step\u001b[0m \u001b[1;33m=\u001b[0m \u001b[0mc\u001b[0m\u001b[1;33m.\u001b[0m\u001b[0mget_walk_step_to_target\u001b[0m\u001b[1;33m(\u001b[0m\u001b[0munit_y\u001b[0m\u001b[1;33m,\u001b[0m \u001b[0munit_x\u001b[0m\u001b[1;33m,\u001b[0m \u001b[0menemy_type\u001b[0m\u001b[1;33m)\u001b[0m\u001b[1;33m\u001b[0m\u001b[0m\n\u001b[0m\u001b[0;32m     24\u001b[0m \u001b[1;33m\u001b[0m\u001b[0m\n\u001b[0;32m     25\u001b[0m                 \u001b[1;32mif\u001b[0m \u001b[0mwalk_step\u001b[0m \u001b[1;32mis\u001b[0m \u001b[1;32mnot\u001b[0m \u001b[1;32mNone\u001b[0m\u001b[1;33m:\u001b[0m\u001b[1;33m\u001b[0m\u001b[0m\n",
      "\u001b[1;32mD:\\Programmieren\\AdventOfCode\\2018\\day15.py\u001b[0m in \u001b[0;36mget_walk_step_to_target\u001b[1;34m(self, y, x, target_unit)\u001b[0m\n\u001b[0;32m    106\u001b[0m \u001b[1;33m\u001b[0m\u001b[0m\n\u001b[0;32m    107\u001b[0m     \u001b[1;32mdef\u001b[0m \u001b[0mget_walk_step_to_target\u001b[0m\u001b[1;33m(\u001b[0m\u001b[0mself\u001b[0m\u001b[1;33m,\u001b[0m \u001b[0my\u001b[0m\u001b[1;33m,\u001b[0m \u001b[0mx\u001b[0m\u001b[1;33m,\u001b[0m \u001b[0mtarget_unit\u001b[0m\u001b[1;33m)\u001b[0m\u001b[1;33m:\u001b[0m\u001b[1;33m\u001b[0m\u001b[0m\n\u001b[1;32m--> 108\u001b[1;33m         \u001b[0mwalk_goals\u001b[0m \u001b[1;33m=\u001b[0m \u001b[0mself\u001b[0m\u001b[1;33m.\u001b[0m\u001b[0mtiles_adjacent_to\u001b[0m\u001b[1;33m(\u001b[0m\u001b[0mtarget_unit\u001b[0m\u001b[1;33m)\u001b[0m\u001b[1;33m\u001b[0m\u001b[0m\n\u001b[0m\u001b[0;32m    109\u001b[0m         \u001b[0mwalkable\u001b[0m \u001b[1;33m=\u001b[0m \u001b[0mself\u001b[0m\u001b[1;33m.\u001b[0m\u001b[0mwalkable_map\u001b[0m\u001b[1;33m(\u001b[0m\u001b[1;33m)\u001b[0m\u001b[1;33m\u001b[0m\u001b[0m\n\u001b[0;32m    110\u001b[0m \u001b[1;33m\u001b[0m\u001b[0m\n",
      "\u001b[1;32mD:\\Programmieren\\AdventOfCode\\2018\\day15.py\u001b[0m in \u001b[0;36mtiles_adjacent_to\u001b[1;34m(self, unit)\u001b[0m\n\u001b[0;32m    101\u001b[0m         \u001b[0mmask\u001b[0m \u001b[1;33m=\u001b[0m \u001b[0munit_arr\u001b[0m \u001b[1;33m>\u001b[0m \u001b[1;36m0\u001b[0m\u001b[1;33m\u001b[0m\u001b[0m\n\u001b[0;32m    102\u001b[0m         \u001b[1;31m# get all neighbouring tiles of the given unit type, but not the positions of the units themselves\u001b[0m\u001b[1;33m\u001b[0m\u001b[1;33m\u001b[0m\u001b[0m\n\u001b[1;32m--> 103\u001b[1;33m         adj = (convolve(mask, self._adj_kernel, \"same\") >= 1) & (~mask) & (\n\u001b[0m\u001b[0;32m    104\u001b[0m             ~self.walls)\n\u001b[0;32m    105\u001b[0m         \u001b[1;32mreturn\u001b[0m \u001b[0madj\u001b[0m\u001b[1;33m\u001b[0m\u001b[0m\n",
      "\u001b[1;32m~\\Anaconda3\\lib\\site-packages\\scipy\\signal\\signaltools.py\u001b[0m in \u001b[0;36mconvolve\u001b[1;34m(in1, in2, mode, method)\u001b[0m\n\u001b[0;32m    771\u001b[0m \u001b[1;33m\u001b[0m\u001b[0m\n\u001b[0;32m    772\u001b[0m     \u001b[1;32mif\u001b[0m \u001b[0mmethod\u001b[0m \u001b[1;33m==\u001b[0m \u001b[1;34m'auto'\u001b[0m\u001b[1;33m:\u001b[0m\u001b[1;33m\u001b[0m\u001b[0m\n\u001b[1;32m--> 773\u001b[1;33m         \u001b[0mmethod\u001b[0m \u001b[1;33m=\u001b[0m \u001b[0mchoose_conv_method\u001b[0m\u001b[1;33m(\u001b[0m\u001b[0mvolume\u001b[0m\u001b[1;33m,\u001b[0m \u001b[0mkernel\u001b[0m\u001b[1;33m,\u001b[0m \u001b[0mmode\u001b[0m\u001b[1;33m=\u001b[0m\u001b[0mmode\u001b[0m\u001b[1;33m)\u001b[0m\u001b[1;33m\u001b[0m\u001b[0m\n\u001b[0m\u001b[0;32m    774\u001b[0m \u001b[1;33m\u001b[0m\u001b[0m\n\u001b[0;32m    775\u001b[0m     \u001b[1;32mif\u001b[0m \u001b[0mmethod\u001b[0m \u001b[1;33m==\u001b[0m \u001b[1;34m'fft'\u001b[0m\u001b[1;33m:\u001b[0m\u001b[1;33m\u001b[0m\u001b[0m\n",
      "\u001b[1;32m~\\Anaconda3\\lib\\site-packages\\scipy\\signal\\signaltools.py\u001b[0m in \u001b[0;36mchoose_conv_method\u001b[1;34m(in1, in2, mode, measure)\u001b[0m\n\u001b[0;32m    655\u001b[0m     \u001b[1;31m# integer as float can lose precision in fftconvolve if larger than 2**52)\u001b[0m\u001b[1;33m\u001b[0m\u001b[1;33m\u001b[0m\u001b[0m\n\u001b[0;32m    656\u001b[0m     \u001b[1;32mif\u001b[0m \u001b[0many\u001b[0m\u001b[1;33m(\u001b[0m\u001b[1;33m[\u001b[0m\u001b[0m_numeric_arrays\u001b[0m\u001b[1;33m(\u001b[0m\u001b[1;33m[\u001b[0m\u001b[0mx\u001b[0m\u001b[1;33m]\u001b[0m\u001b[1;33m,\u001b[0m \u001b[0mkinds\u001b[0m\u001b[1;33m=\u001b[0m\u001b[1;34m'ui'\u001b[0m\u001b[1;33m)\u001b[0m \u001b[1;32mfor\u001b[0m \u001b[0mx\u001b[0m \u001b[1;32min\u001b[0m \u001b[1;33m[\u001b[0m\u001b[0mvolume\u001b[0m\u001b[1;33m,\u001b[0m \u001b[0mkernel\u001b[0m\u001b[1;33m]\u001b[0m\u001b[1;33m]\u001b[0m\u001b[1;33m)\u001b[0m\u001b[1;33m:\u001b[0m\u001b[1;33m\u001b[0m\u001b[0m\n\u001b[1;32m--> 657\u001b[1;33m         \u001b[0mmax_value\u001b[0m \u001b[1;33m=\u001b[0m \u001b[0mint\u001b[0m\u001b[1;33m(\u001b[0m\u001b[0mnp\u001b[0m\u001b[1;33m.\u001b[0m\u001b[0mabs\u001b[0m\u001b[1;33m(\u001b[0m\u001b[0mvolume\u001b[0m\u001b[1;33m)\u001b[0m\u001b[1;33m.\u001b[0m\u001b[0mmax\u001b[0m\u001b[1;33m(\u001b[0m\u001b[1;33m)\u001b[0m\u001b[1;33m)\u001b[0m \u001b[1;33m*\u001b[0m \u001b[0mint\u001b[0m\u001b[1;33m(\u001b[0m\u001b[0mnp\u001b[0m\u001b[1;33m.\u001b[0m\u001b[0mabs\u001b[0m\u001b[1;33m(\u001b[0m\u001b[0mkernel\u001b[0m\u001b[1;33m)\u001b[0m\u001b[1;33m.\u001b[0m\u001b[0mmax\u001b[0m\u001b[1;33m(\u001b[0m\u001b[1;33m)\u001b[0m\u001b[1;33m)\u001b[0m\u001b[1;33m\u001b[0m\u001b[0m\n\u001b[0m\u001b[0;32m    658\u001b[0m         \u001b[0mmax_value\u001b[0m \u001b[1;33m*=\u001b[0m \u001b[0mint\u001b[0m\u001b[1;33m(\u001b[0m\u001b[0mmin\u001b[0m\u001b[1;33m(\u001b[0m\u001b[0mvolume\u001b[0m\u001b[1;33m.\u001b[0m\u001b[0msize\u001b[0m\u001b[1;33m,\u001b[0m \u001b[0mkernel\u001b[0m\u001b[1;33m.\u001b[0m\u001b[0msize\u001b[0m\u001b[1;33m)\u001b[0m\u001b[1;33m)\u001b[0m\u001b[1;33m\u001b[0m\u001b[0m\n\u001b[0;32m    659\u001b[0m         \u001b[1;32mif\u001b[0m \u001b[0mmax_value\u001b[0m \u001b[1;33m>\u001b[0m \u001b[1;36m2\u001b[0m\u001b[1;33m**\u001b[0m\u001b[0mnp\u001b[0m\u001b[1;33m.\u001b[0m\u001b[0mfinfo\u001b[0m\u001b[1;33m(\u001b[0m\u001b[1;34m'float'\u001b[0m\u001b[1;33m)\u001b[0m\u001b[1;33m.\u001b[0m\u001b[0mnmant\u001b[0m \u001b[1;33m-\u001b[0m \u001b[1;36m1\u001b[0m\u001b[1;33m:\u001b[0m\u001b[1;33m\u001b[0m\u001b[0m\n",
      "\u001b[1;32m~\\Anaconda3\\lib\\site-packages\\numpy\\core\\_methods.py\u001b[0m in \u001b[0;36m_amax\u001b[1;34m(a, axis, out, keepdims, initial)\u001b[0m\n\u001b[0;32m     26\u001b[0m def _amax(a, axis=None, out=None, keepdims=False,\n\u001b[0;32m     27\u001b[0m           initial=_NoValue):\n\u001b[1;32m---> 28\u001b[1;33m     \u001b[1;32mreturn\u001b[0m \u001b[0mumr_maximum\u001b[0m\u001b[1;33m(\u001b[0m\u001b[0ma\u001b[0m\u001b[1;33m,\u001b[0m \u001b[0maxis\u001b[0m\u001b[1;33m,\u001b[0m \u001b[1;32mNone\u001b[0m\u001b[1;33m,\u001b[0m \u001b[0mout\u001b[0m\u001b[1;33m,\u001b[0m \u001b[0mkeepdims\u001b[0m\u001b[1;33m,\u001b[0m \u001b[0minitial\u001b[0m\u001b[1;33m)\u001b[0m\u001b[1;33m\u001b[0m\u001b[0m\n\u001b[0m\u001b[0;32m     29\u001b[0m \u001b[1;33m\u001b[0m\u001b[0m\n\u001b[0;32m     30\u001b[0m def _amin(a, axis=None, out=None, keepdims=False,\n",
      "\u001b[1;31mKeyboardInterrupt\u001b[0m: "
     ]
    }
   ],
   "source": [
    "for elf_ad in range(4, 10000):\n",
    "    c = Cavern(data, initial_hp=200, elf_ad=elf_ad, goblin_ad=3, can_elfs_die=False)\n",
    "    r = 0\n",
    "    print(\"AD: \", elf_ad, end=\" \")\n",
    "    try:\n",
    "        for i in range(10000):\n",
    "            print(i, end=\" \")\n",
    "            dead_this_round = []\n",
    "            units = c.sorted_units_list()\n",
    "            for i_unit, (unit_type, unit_y, unit_x) in enumerate(zip(*units)):\n",
    "                last_one = i_unit == len(units[0]) - 1\n",
    "                if (unit_y, unit_x) in dead_this_round:\n",
    "                    continue\n",
    "\n",
    "                enemy_type = \"Elf\" if unit_type == \"Goblin\" else \"Goblin\"\n",
    "                attack_target = c.get_attack_target(unit_y, unit_x, enemy_type)\n",
    "                if attack_target is not None:\n",
    "                    died = c.attack(attack_target)\n",
    "                    if died:\n",
    "                        dead_this_round.append(attack_target)\n",
    "                    continue\n",
    "\n",
    "                walk_step = c.get_walk_step_to_target(unit_y, unit_x, enemy_type)\n",
    "\n",
    "                if walk_step is not None:\n",
    "                    c.move(unit_type, unit_y, unit_x, *walk_step)\n",
    "                    unit_y, unit_x = walk_step\n",
    "\n",
    "                attack_target = c.get_attack_target(unit_y, unit_x, enemy_type)\n",
    "                if attack_target is not None:\n",
    "                    died = c.attack(attack_target)\n",
    "                    if died:\n",
    "                        dead_this_round.append(attack_target)\n",
    "                    continue\n",
    "\n",
    "            r += 1\n",
    "    except ElfDied:\n",
    "        print(\"Elf died!\")\n",
    "        continue\n",
    "    except CombatOver:\n",
    "        if last_one:\n",
    "            r += 1\n",
    "        print(elf_ad, \"Its over after: \", r, c.get_remaining_hp(), \"=\", r*c.get_remaining_hp())\n",
    "        continue\n",
    "    print(elf_ad, \"not over\")"
   ]
  },
  {
   "cell_type": "code",
   "execution_count": null,
   "metadata": {},
   "outputs": [],
   "source": []
  }
 ],
 "metadata": {
  "kernelspec": {
   "display_name": "Python 3",
   "language": "python",
   "name": "python3"
  },
  "language_info": {
   "codemirror_mode": {
    "name": "ipython",
    "version": 3
   },
   "file_extension": ".py",
   "mimetype": "text/x-python",
   "name": "python",
   "nbconvert_exporter": "python",
   "pygments_lexer": "ipython3",
   "version": "3.6.6"
  }
 },
 "nbformat": 4,
 "nbformat_minor": 2
}
