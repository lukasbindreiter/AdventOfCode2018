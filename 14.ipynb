{
 "cells": [
  {
   "cell_type": "code",
   "execution_count": 32,
   "metadata": {},
   "outputs": [],
   "source": [
    "def digits_of_number(num):\n",
    "    return [v for v in map(int, list(str(num)))]"
   ]
  },
  {
   "cell_type": "code",
   "execution_count": 6,
   "metadata": {},
   "outputs": [],
   "source": [
    "class Recipe:\n",
    "    def __init__(self, score):\n",
    "        self.score = score\n",
    "        self.next = None\n",
    "        self.prev = None"
   ]
  },
  {
   "cell_type": "code",
   "execution_count": 100,
   "metadata": {},
   "outputs": [],
   "source": [
    "class Scoreboard:\n",
    "    def __init__(self, last_digits_save=1):\n",
    "        self._last_digits = [0 for _ in range(last_digits_save)]\n",
    "        self.head = Recipe(3)\n",
    "        self._size = 1\n",
    "        self._last_digits[-1] = 3\n",
    "        self.head.next = self.head\n",
    "        self.head.prev = self.head\n",
    "        self._insert_at_tail(Recipe(7))\n",
    "        self.elves = [self.head, self.head.next]\n",
    "    \n",
    "    def _insert_at_tail(self, new_tail):\n",
    "        curr_tail = self.head.prev\n",
    "        curr_tail.next = new_tail\n",
    "        new_tail.prev = curr_tail\n",
    "        self.head.prev = new_tail\n",
    "        new_tail.next = self.head\n",
    "        self._size += 1\n",
    "        self._last_digits = self._last_digits[1:]\n",
    "        self._last_digits.append(new_tail.score)\n",
    "    \n",
    "    def tick(self):\n",
    "        score = sum([e.score for e in self.elves])\n",
    "        for d in digits_of_number(score):\n",
    "            self._insert_at_tail(Recipe(d))\n",
    "        \n",
    "        # move the elve\n",
    "        for i in range(len(self.elves)):\n",
    "            steps = 1 + self.elves[i].score\n",
    "            for _ in range(steps):\n",
    "                self.elves[i] = self.elves[i].next\n",
    "    \n",
    "    def __len__(self):\n",
    "        return self._size\n",
    "    \n",
    "    def __str__(self):\n",
    "        m = self.head\n",
    "        s = \"\"\n",
    "        while m != self.head or len(s) == 0:\n",
    "            s += f\"({m.score}) \" if m == self.elves[0] else (f\"[{m.score}] \" if m == self.elves[1] else f\"{m.score} \")\n",
    "            m = m.next\n",
    "        \n",
    "        return s\n",
    "    \n",
    "    def __repr__(self):\n",
    "        return str(self)"
   ]
  },
  {
   "cell_type": "markdown",
   "metadata": {},
   "source": [
    "## Part 1"
   ]
  },
  {
   "cell_type": "code",
   "execution_count": 93,
   "metadata": {},
   "outputs": [],
   "source": [
    "last_recipe = 380621\n",
    "n_after = 10"
   ]
  },
  {
   "cell_type": "code",
   "execution_count": 94,
   "metadata": {},
   "outputs": [],
   "source": [
    "s = Scoreboard()\n",
    "while len(s) < (last_recipe + n_after):\n",
    "    s.tick()"
   ]
  },
  {
   "cell_type": "markdown",
   "metadata": {},
   "source": [
    "Now print out the 10 values after our last_recipe"
   ]
  },
  {
   "cell_type": "code",
   "execution_count": 95,
   "metadata": {},
   "outputs": [],
   "source": [
    "r = s.head\n",
    "for _ in range(last_recipe):\n",
    "    r = r.next\n",
    "out = \"\"\n",
    "for _ in range(n_after):\n",
    "    out += str(r.score)\n",
    "    r = r.next"
   ]
  },
  {
   "cell_type": "code",
   "execution_count": 96,
   "metadata": {},
   "outputs": [
    {
     "name": "stdout",
     "output_type": "stream",
     "text": [
      "6985103122\n"
     ]
    }
   ],
   "source": [
    "print(out)"
   ]
  },
  {
   "cell_type": "markdown",
   "metadata": {},
   "source": [
    "## Part 2"
   ]
  },
  {
   "cell_type": "code",
   "execution_count": 172,
   "metadata": {},
   "outputs": [],
   "source": [
    "scores = 380621\n",
    "search_digits = digits_of_number(scores)"
   ]
  },
  {
   "cell_type": "code",
   "execution_count": 173,
   "metadata": {},
   "outputs": [],
   "source": [
    "s = Scoreboard(len(search_digits) + 1)"
   ]
  },
  {
   "cell_type": "code",
   "execution_count": 174,
   "metadata": {},
   "outputs": [],
   "source": [
    "while s._last_digits[1:] != search_digits and s._last_digits[:-1] != search_digits:\n",
    "    s.tick()"
   ]
  },
  {
   "cell_type": "code",
   "execution_count": 175,
   "metadata": {},
   "outputs": [
    {
     "data": {
      "text/plain": [
       "20182290"
      ]
     },
     "execution_count": 175,
     "metadata": {},
     "output_type": "execute_result"
    }
   ],
   "source": [
    "len(s) - len(search_digits) - (1 if s._last_digits[:-1] == search_digits else 0)"
   ]
  },
  {
   "cell_type": "code",
   "execution_count": null,
   "metadata": {},
   "outputs": [],
   "source": []
  }
 ],
 "metadata": {
  "kernelspec": {
   "display_name": "Python 3",
   "language": "python",
   "name": "python3"
  },
  "language_info": {
   "codemirror_mode": {
    "name": "ipython",
    "version": 3
   },
   "file_extension": ".py",
   "mimetype": "text/x-python",
   "name": "python",
   "nbconvert_exporter": "python",
   "pygments_lexer": "ipython3",
   "version": "3.6.5"
  }
 },
 "nbformat": 4,
 "nbformat_minor": 2
}
