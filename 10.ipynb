{
 "cells": [
  {
   "cell_type": "code",
   "execution_count": 1,
   "metadata": {},
   "outputs": [],
   "source": [
    "import numpy as np\n",
    "import matplotlib.pyplot as plt\n",
    "import re"
   ]
  },
  {
   "cell_type": "code",
   "execution_count": 186,
   "metadata": {},
   "outputs": [],
   "source": [
    "inp = open(\"inputs/10.input\").read()"
   ]
  },
  {
   "cell_type": "code",
   "execution_count": 187,
   "metadata": {},
   "outputs": [],
   "source": [
    "lines = inp.strip().split(\"\\n\")\n",
    "pattern = re.compile('position=<[ ]*(?P<x>[-\\d]*),[ ]*(?P<y>[-\\d]*)> velocity=<[ ]*(?P<vx>[-\\d]*),[ ]*(?P<vy>[-\\d]*)>$')\n",
    "values = np.array([[int(m.group(name)) for name in [\"x\", \"y\", \"vx\", \"vy\"]] for m in [pattern.match(l) for l in lines]])\n",
    "pos = values[:, :2]\n",
    "vel = values[:, 2:]"
   ]
  },
  {
   "cell_type": "code",
   "execution_count": 233,
   "metadata": {},
   "outputs": [
    {
     "name": "stdout",
     "output_type": "stream",
     "text": [
      "Seconds Bounding Box size\n",
      "10150 168\n",
      "10151 158\n",
      "10152 148\n",
      "10153 138\n",
      "10154 128\n",
      "10155 118\n",
      "10156 108\n",
      "10157 98\n",
      "10158 88\n",
      "10159 78\n",
      "10160 87\n",
      "10161 97\n",
      "10162 107\n",
      "10163 117\n",
      "10164 127\n",
      "10165 137\n",
      "10166 147\n",
      "10167 157\n",
      "10168 167\n",
      "10169 177\n",
      "10170 187\n",
      "10171 197\n",
      "10172 207\n",
      "10173 217\n",
      "10174 227\n",
      "10175 237\n",
      "10176 247\n",
      "10177 257\n",
      "10178 267\n",
      "10179 277\n"
     ]
    }
   ],
   "source": [
    "print(\"Seconds\", \"Bounding Box size\")\n",
    "for i in range(10150, 10180, 1):\n",
    "    points = pos + i * vel\n",
    "    diff = points.max() - points.min() \n",
    "    print(i, diff)"
   ]
  },
  {
   "cell_type": "code",
   "execution_count": 201,
   "metadata": {},
   "outputs": [],
   "source": [
    "# convert position indices into an image\n",
    "def pos_to_mat(pos):\n",
    "    pos = pos - pos.min()\n",
    "    w = pos[:, 0].max() + 1\n",
    "    h = pos[:, 1].max() + 1\n",
    "    mat = np.zeros(shape=(w, h))\n",
    "    mat[pos[:, 0], pos[:, 1]] = 1\n",
    "    return mat.T"
   ]
  },
  {
   "cell_type": "code",
   "execution_count": 232,
   "metadata": {},
   "outputs": [
    {
     "data": {
      "text/plain": [
       "<matplotlib.image.AxesImage at 0x2a9aae52588>"
      ]
     },
     "execution_count": 232,
     "metadata": {},
     "output_type": "execute_result"
    },
    {
     "data": {
      "image/png": "[encoded data removed]",
      "text/plain": [
       "<Figure size 432x288 with 1 Axes>"
      ]
     },
     "metadata": {},
     "output_type": "display_data"
    }
   ],
   "source": [
    "seconds = 10159\n",
    "plt.imshow(pos_to_mat(pos + seconds * vel))"
   ]
  },
  {
   "cell_type": "code",
   "execution_count": 234,
   "metadata": {},
   "outputs": [
    {
     "data": {
      "text/plain": [
       "'LKPHZHHJ'"
      ]
     },
     "execution_count": 234,
     "metadata": {},
     "output_type": "execute_result"
    }
   ],
   "source": [
    "\"LKPHZHHJ\""
   ]
  }
 ],
 "metadata": {
  "kernelspec": {
   "display_name": "Python 3",
   "language": "python",
   "name": "python3"
  },
  "language_info": {
   "codemirror_mode": {
    "name": "ipython",
    "version": 3
   },
   "file_extension": ".py",
   "mimetype": "text/x-python",
   "name": "python",
   "nbconvert_exporter": "python",
   "pygments_lexer": "ipython3",
   "version": "3.6.6"
  }
 },
 "nbformat": 4,
 "nbformat_minor": 2
}
