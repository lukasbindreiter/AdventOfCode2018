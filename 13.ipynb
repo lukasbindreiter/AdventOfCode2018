{
 "cells": [
  {
   "cell_type": "code",
   "execution_count": 85,
   "metadata": {},
   "outputs": [],
   "source": [
    "import numpy as np\n",
    "import itertools\n",
    "from functools import total_ordering"
   ]
  },
  {
   "cell_type": "code",
   "execution_count": null,
   "metadata": {},
   "outputs": [],
   "source": []
  },
  {
   "cell_type": "code",
   "execution_count": 196,
   "metadata": {},
   "outputs": [],
   "source": [
    "lines = [l for l in open(\"inputs/13.input\").read().split(\"\\n\") if len(l) >= 1]"
   ]
  },
  {
   "cell_type": "code",
   "execution_count": 230,
   "metadata": {},
   "outputs": [],
   "source": [
    "# for a curve and current direction return the new direction\n",
    "curve_mapping = {\n",
    "    \"/\": {\n",
    "        \"N\": \"E\",\n",
    "        \"E\": \"N\",\n",
    "        \"S\": \"W\",\n",
    "        \"W\": \"S\"\n",
    "    },\n",
    "    \"\\\\\": {\n",
    "        \"N\": \"W\",\n",
    "        \"E\": \"S\",\n",
    "        \"S\": \"E\",\n",
    "        \"W\": \"N\"\n",
    "    }\n",
    "}\n",
    "\n",
    "# for an intersection, the current direction and the turn that gets taken return the new direction\n",
    "intersection_mapping = {\n",
    "    0: { # turn left\n",
    "        \"N\": \"W\",\n",
    "        \"E\": \"N\",\n",
    "        \"S\": \"E\",\n",
    "        \"W\": \"S\"\n",
    "    },\n",
    "    1: { # straight\n",
    "        \"N\": \"N\",\n",
    "        \"E\": \"E\",\n",
    "        \"S\": \"S\",\n",
    "        \"W\": \"W\"\n",
    "    },\n",
    "    2: { # turn right\n",
    "        \"N\": \"E\",\n",
    "        \"E\": \"S\",\n",
    "        \"S\": \"W\",\n",
    "        \"W\": \"N\"\n",
    "    }\n",
    "}"
   ]
  },
  {
   "cell_type": "code",
   "execution_count": 199,
   "metadata": {},
   "outputs": [],
   "source": [
    "@total_ordering\n",
    "class Cart:\n",
    "    def __init__(self, x, y, dir):\n",
    "        self.x = x\n",
    "        self.y = y\n",
    "        self.dir = dir # N, E, S, W\n",
    "        self.intersection_counter = 0\n",
    "        \n",
    "    def __eq__(self, other):\n",
    "        return (self.x, self.y) == (other.x, other.y)\n",
    "    \n",
    "    def __lt__(self, other):\n",
    "        # assuming no board is wider than 100000 columns\n",
    "        return (self.y * 100000 + self.x) < (other.y * 100000 + other.x)\n",
    "    \n",
    "    def __str__(self):\n",
    "        return f\"Cart: {self.y} | {self.x}: {self.dir}\"\n",
    "    \n",
    "    def __repr__(self):\n",
    "        return str(self)\n",
    "    \n",
    "    def copy(self):\n",
    "        return Cart(self.x, self.y, self.dir)\n",
    "    \n",
    "    def move(self, board):\n",
    "        track = board[(self.y, self.x)]\n",
    "        if track.type  == \"+\":\n",
    "            self.dir = intersection_mapping[self.intersection_counter][self.dir]            \n",
    "            self.intersection_counter = (self.intersection_counter + 1) % 3\n",
    "        elif track.type in [\"/\", \"\\\\\"]:\n",
    "            self.dir = curve_mapping[track.type][self.dir]\n",
    "        \n",
    "        if self.dir in [\"E\", \"W\"]:\n",
    "            self.x += (1 if self.dir == \"E\" else -1)\n",
    "        else:\n",
    "            self.y += (1 if self.dir == \"S\" else -1)"
   ]
  },
  {
   "cell_type": "code",
   "execution_count": 200,
   "metadata": {},
   "outputs": [],
   "source": [
    "class Track:\n",
    "    def __init__(self, x, y, type):\n",
    "        self.x = x\n",
    "        self.y = y\n",
    "        self.type = type # |, -, /, \\, +\n",
    "    \n",
    "    def __str__(self):\n",
    "        return f\"{self.type}:  {self.y} | {self.x}\"\n",
    "    \n",
    "    def __repr__(self):\n",
    "        return str(self)"
   ]
  },
  {
   "cell_type": "code",
   "execution_count": null,
   "metadata": {},
   "outputs": [],
   "source": []
  },
  {
   "cell_type": "code",
   "execution_count": 210,
   "metadata": {},
   "outputs": [],
   "source": [
    "board = {}\n",
    "initial_carts = []\n",
    "\n",
    "for y, l in enumerate(lines):\n",
    "    for x, sym in enumerate(l):\n",
    "        if sym == \" \":\n",
    "            continue\n",
    "        elif sym in [\"|\", \"-\", \"/\", \"\\\\\", \"+\"]:\n",
    "            board[(y, x)] = Track(x, y, sym)\n",
    "        elif sym == \">\":\n",
    "            board[(y, x)] = Track(x, y, \"-\")\n",
    "            initial_carts.append(Cart(x, y, \"E\"))\n",
    "        elif sym == \"<\":\n",
    "            board[(y, x)] = Track(x, y, \"-\")\n",
    "            initial_carts.append(Cart(x, y, \"W\"))\n",
    "        elif sym == \"^\":\n",
    "            board[(y, x)] = Track(x, y, \"|\")\n",
    "            initial_carts.append(Cart(x, y, \"N\"))\n",
    "        elif sym == \"v\":\n",
    "            board[(y, x)] = Track(x, y, \"|\")\n",
    "            initial_carts.append(Cart(x, y, \"S\"))\n",
    "        else:\n",
    "            print(\"Error: \", sym, y, x)\n",
    "            assert False"
   ]
  },
  {
   "cell_type": "code",
   "execution_count": 211,
   "metadata": {},
   "outputs": [],
   "source": [
    "def location_of_crash(carts):\n",
    "    for c1, c2 in itertools.combinations(carts, 2):\n",
    "        if c1 == c2:\n",
    "            return (c1.x, c1.y)"
   ]
  },
  {
   "cell_type": "markdown",
   "metadata": {},
   "source": [
    "### Part1: First crash printed out here:"
   ]
  },
  {
   "cell_type": "code",
   "execution_count": 223,
   "metadata": {},
   "outputs": [
    {
     "name": "stdout",
     "output_type": "stream",
     "text": [
      "Crash: 41,22\n",
      "Crash: 112,8\n",
      "Crash: 73,87\n",
      "Crash: 52,38\n",
      "Crash: 109,30\n",
      "Crash: 39,66\n",
      "Crash: 98,32\n",
      "Crash: 56,25\n"
     ]
    }
   ],
   "source": [
    "board = board.copy()\n",
    "carts = [c.copy() for c in initial_carts]\n",
    "\n",
    "while len(carts) > 1:\n",
    "    #print(carts)\n",
    "    carts = sorted(carts)\n",
    "    for cart in carts:\n",
    "        crash = location_of_crash(carts)\n",
    "        if crash is not None:\n",
    "            print(\"Crash: {},{}\".format(*crash))\n",
    "            carts = [c for c in carts if (c.x, c.y) != crash]\n",
    "        \n",
    "        cart.move(board)\n",
    "    # also check for the last cart\n",
    "    crash = location_of_crash(carts)\n",
    "    if crash is not None:\n",
    "        print(\"Crash: {},{}\".format(*crash))\n",
    "        carts = [c for c in carts if (c.x, c.y) != crash]"
   ]
  },
  {
   "cell_type": "markdown",
   "metadata": {},
   "source": [
    "### Part2: Last remaining cart:"
   ]
  },
  {
   "cell_type": "code",
   "execution_count": 229,
   "metadata": {},
   "outputs": [
    {
     "name": "stdout",
     "output_type": "stream",
     "text": [
      "84,90\n"
     ]
    }
   ],
   "source": [
    "print(\"{},{}\".format(carts[0].x, carts[0].y))"
   ]
  }
 ],
 "metadata": {
  "kernelspec": {
   "display_name": "Python 3",
   "language": "python",
   "name": "python3"
  },
  "language_info": {
   "codemirror_mode": {
    "name": "ipython",
    "version": 3
   },
   "file_extension": ".py",
   "mimetype": "text/x-python",
   "name": "python",
   "nbconvert_exporter": "python",
   "pygments_lexer": "ipython3",
   "version": "3.6.6"
  }
 },
 "nbformat": 4,
 "nbformat_minor": 2
}
